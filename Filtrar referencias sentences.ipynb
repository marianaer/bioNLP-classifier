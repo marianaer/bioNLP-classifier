{
 "cells": [
  {
   "cell_type": "code",
   "execution_count": 35,
   "metadata": {},
   "outputs": [],
   "source": [
    "import re \n",
    "salida=open('/home/mescobar/Escritorio/Tercer_Semestre/Bioinfo/senOth/Other_2.0.txt','w')\n",
    "with open ('/home/mescobar/Escritorio/Tercer_Semestre/Bioinfo/senOth/Other_0.5.txt','r') as archivo:\n",
    "    for line in archivo:\n",
    "        line=re.sub(r\"\\(.*\\d+.+?\\)\", \"\", line)\n",
    "        line=re.sub(r\"et al\", \"\", line, flags=re.IGNORECASE)\n",
    "        line=re.sub(r\"molecular microbiology\", \"\", line, flags=re.IGNORECASE)\n",
    "\n",
    "        salida.write(line)\n",
    "salida.close()"
   ]
  },
  {
   "cell_type": "code",
   "execution_count": null,
   "metadata": {},
   "outputs": [],
   "source": []
  }
 ],
 "metadata": {
  "kernelspec": {
   "display_name": "Python 2",
   "language": "python",
   "name": "python2"
  },
  "language_info": {
   "codemirror_mode": {
    "name": "ipython",
    "version": 2
   },
   "file_extension": ".py",
   "mimetype": "text/x-python",
   "name": "python",
   "nbconvert_exporter": "python",
   "pygments_lexer": "ipython2",
   "version": "2.7.15rc1"
  }
 },
 "nbformat": 4,
 "nbformat_minor": 2
}
